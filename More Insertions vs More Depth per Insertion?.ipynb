{
 "cells": [
  {
   "cell_type": "code",
   "execution_count": 45,
   "metadata": {},
   "outputs": [],
   "source": [
    "import numpy as np\n",
    "import matplotlib.pyplot as plt"
   ]
  },
  {
   "cell_type": "markdown",
   "metadata": {},
   "source": [
    "In this quick simulation, I want to figure out for a fixed sequencing depth, should it be split between a lot of insertion sites in a gene and averaged, or should we sequence fewer sites in a gene at high depth"
   ]
  },
  {
   "cell_type": "code",
   "execution_count": 46,
   "metadata": {},
   "outputs": [],
   "source": [
    "sites1 = 10**5\n",
    "sites2 = 10**4\n",
    "reads = 10**6"
   ]
  },
  {
   "cell_type": "markdown",
   "metadata": {},
   "source": [
    "Let's consider a gene with 100 insertion sites. In scenario 1, all 100 are represented in sequencing data, in scenario 2, only 10 are represented"
   ]
  },
  {
   "cell_type": "code",
   "execution_count": 85,
   "metadata": {},
   "outputs": [],
   "source": [
    "coverage1 = 25\n",
    "coverage2 = 62.5"
   ]
  },
  {
   "cell_type": "code",
   "execution_count": 157,
   "metadata": {},
   "outputs": [],
   "source": [
    "n1 = 60\n",
    "n2 = 24"
   ]
  },
  {
   "cell_type": "code",
   "execution_count": 158,
   "metadata": {},
   "outputs": [
    {
     "name": "stdout",
     "output_type": "stream",
     "text": [
      "0.007883331381381076\n",
      "0.007818955519999038\n"
     ]
    }
   ],
   "source": [
    "#quick and dirty error estimate\n",
    "e1 = 1/6.64/np.sqrt(n1)*np.log((coverage1+np.sqrt(coverage1))/(coverage1-np.sqrt(coverage1)))\n",
    "e2 = 1/6.64/np.sqrt(n2)*np.log((coverage2+np.sqrt(coverage2))/(coverage2-np.sqrt(coverage2)))\n",
    "print(e1)\n",
    "print(e2)"
   ]
  },
  {
   "cell_type": "markdown",
   "metadata": {},
   "source": [
    "Assume that the mutating the gene has no effect. So any noise should purely be Poisson noise"
   ]
  },
  {
   "cell_type": "code",
   "execution_count": 256,
   "metadata": {},
   "outputs": [],
   "source": [
    "sc1_t0 = np.random.poisson(coverage1, n1)\n",
    "#sc1_t1 = np.random.poisson(coverage1, n1)\n",
    "sc2_t0 = np.random.poisson(coverage2, n2)\n",
    "#sc2_t1 = np.random.poisson(coverage2, n2)\n",
    "sc1_t1 = np.zeros(n1)\n",
    "sc2_t1 = np.zeros(n2)\n",
    "for i in range(0, n1):\n",
    "    sc1_t1[i] = np.random.poisson(sc1_t0[i])\n",
    "for i in range(0, n2):\n",
    "    sc2_t1[i] = np.random.poisson(sc2_t0[i])"
   ]
  },
  {
   "cell_type": "markdown",
   "metadata": {},
   "source": [
    "Now let's calculate fitness in these two scenarios"
   ]
  },
  {
   "cell_type": "code",
   "execution_count": 257,
   "metadata": {},
   "outputs": [],
   "source": [
    "fitness_sc1 = np.log(sc1_t1/sc1_t0*np.sum(sc1_t0)/np.sum(sc1_t1))/6.64\n",
    "fitness_sc2 = np.log(sc2_t1/sc2_t0*np.sum(sc2_t0)/np.sum(sc2_t1))/6.64"
   ]
  },
  {
   "cell_type": "markdown",
   "metadata": {},
   "source": [
    "Now let's look at the means and standard deviations of the fitness estimates for the same gene in the two scenarios"
   ]
  },
  {
   "cell_type": "code",
   "execution_count": 258,
   "metadata": {},
   "outputs": [
    {
     "name": "stdout",
     "output_type": "stream",
     "text": [
      "-0.0042763727054895674\n",
      "0.00480223176477605\n"
     ]
    }
   ],
   "source": [
    "print(np.mean(fitness_sc1))\n",
    "print(np.std(fitness_sc1)/np.sqrt(60))"
   ]
  },
  {
   "cell_type": "code",
   "execution_count": 259,
   "metadata": {},
   "outputs": [
    {
     "name": "stdout",
     "output_type": "stream",
     "text": [
      "-0.0013341801278724523\n",
      "0.00402905970055348\n"
     ]
    }
   ],
   "source": [
    "print(np.mean(fitness_sc2))\n",
    "print(np.std(fitness_sc2)/np.sqrt(24))"
   ]
  },
  {
   "cell_type": "code",
   "execution_count": 165,
   "metadata": {},
   "outputs": [
    {
     "data": {
      "text/plain": [
       "Text(0, 0.5, 'counts')"
      ]
     },
     "execution_count": 165,
     "metadata": {},
     "output_type": "execute_result"
    },
    {
     "data": {
      "image/png": "[encoded data removed]",
      "text/plain": [
       "<Figure size 432x288 with 1 Axes>"
      ]
     },
     "metadata": {
      "needs_background": "light"
     },
     "output_type": "display_data"
    }
   ],
   "source": [
    "plt.hist(fitness_sc1, bins=np.linspace(-0.1, 0.075, 10), label='High complexity', density=True)\n",
    "plt.hist(fitness_sc2, bins=np.linspace(-0.1, 0.075, 10), label='Low complexity', density=True, alpha=0.6)\n",
    "plt.xlabel(\"Estimated fitness effect for a mutation at a neutral TA site\")\n",
    "plt.legend(loc=0)\n",
    "plt.ylabel(\"counts\")"
   ]
  },
  {
   "cell_type": "markdown",
   "metadata": {},
   "source": [
    "## Now, let's play around with initial library complexity and see how that affects the variation in fitness estimates"
   ]
  },
  {
   "cell_type": "code",
   "execution_count": 56,
   "metadata": {},
   "outputs": [],
   "source": [
    "complexity = np.linspace(2*10**4, 10**6, 200)"
   ]
  },
  {
   "cell_type": "code",
   "execution_count": 57,
   "metadata": {},
   "outputs": [],
   "source": [
    "#these are the proportion of unique TA sites represented in the sequencing data on average\n",
    "fraction_sites = 1 - np.exp(-complexity/211995)"
   ]
  },
  {
   "cell_type": "code",
   "execution_count": 58,
   "metadata": {
    "scrolled": true
   },
   "outputs": [
    {
     "data": {
      "text/plain": [
       "[<matplotlib.lines.Line2D at 0x1151edd30>]"
      ]
     },
     "execution_count": 58,
     "metadata": {},
     "output_type": "execute_result"
    },
    {
     "data": {
      "image/png": "[encoded data removed]",
      "text/plain": [
       "<Figure size 432x288 with 1 Axes>"
      ]
     },
     "metadata": {
      "needs_background": "light"
     },
     "output_type": "display_data"
    }
   ],
   "source": [
    "plt.plot(complexity, fraction_sites)"
   ]
  },
  {
   "cell_type": "code",
   "execution_count": 59,
   "metadata": {},
   "outputs": [],
   "source": [
    "#number of sites represented in a gene\n",
    "n_gene = np.round(fraction_sites*60)"
   ]
  },
  {
   "cell_type": "code",
   "execution_count": 60,
   "metadata": {},
   "outputs": [],
   "source": [
    "#number of reads (for an entire library)\n",
    "n_reads = 5*10**6\n",
    "rps = n_reads/fraction_sites/211995"
   ]
  },
  {
   "cell_type": "code",
   "execution_count": 61,
   "metadata": {},
   "outputs": [],
   "source": [
    "errors = 1/6.64/np.sqrt(n_gene)*np.log((rps+np.sqrt(rps))/(rps-np.sqrt(rps)))"
   ]
  },
  {
   "cell_type": "code",
   "execution_count": 62,
   "metadata": {},
   "outputs": [
    {
     "data": {
      "text/plain": [
       "[<matplotlib.lines.Line2D at 0x1152a7748>]"
      ]
     },
     "execution_count": 62,
     "metadata": {},
     "output_type": "execute_result"
    },
    {
     "data": {
      "image/png": "[encoded data removed]",
      "text/plain": [
       "<Figure size 432x288 with 1 Axes>"
      ]
     },
     "metadata": {
      "needs_background": "light"
     },
     "output_type": "display_data"
    }
   ],
   "source": [
    "plt.plot(complexity, errors)"
   ]
  },
  {
   "cell_type": "markdown",
   "metadata": {},
   "source": [
    "let's try to generate the same plot without the weird squiggles due to rounding off "
   ]
  },
  {
   "cell_type": "code",
   "execution_count": 68,
   "metadata": {},
   "outputs": [],
   "source": [
    "#let's stick to a linearly spacing in terms of number of sites represented per gene\n",
    "n_genes1 = np.linspace(1,59,59)\n",
    "#now, I'll infer a complexity of transposon library which leads to representing these many genes\n",
    "complexity1 = -np.log(1-n_genes1/60)*211995"
   ]
  },
  {
   "cell_type": "code",
   "execution_count": 69,
   "metadata": {},
   "outputs": [
    {
     "data": {
      "text/plain": [
       "array([  3563.02504748,   7186.95944749,  10873.92194369,  14626.14379088,\n",
       "        18445.97686492,  22335.90251688,  26298.54125479,  30336.6633476 ,\n",
       "        34453.20045888,  38651.25843253,  42934.13137031,  47305.31716086,\n",
       "        51768.53464375,  56327.74261957,  60987.16094942,  65751.29402577,\n",
       "        70624.95694182,  75613.30474029,  80721.86518729,  85956.57559339,\n",
       "        91323.82429702,  96830.49753708, 102484.03257726, 108292.47811027,\n",
       "       114264.56317283, 120409.77605227, 126738.45497519, 133261.89275425,\n",
       "       139992.45805345, 146943.73654281, 154130.69599029, 161569.88033368,\n",
       "       169279.63905969, 177280.39989041, 185594.99497534, 194249.05370366,\n",
       "       203271.47916237, 212695.03056858, 222557.0412831 , 232900.3121362 ,\n",
       "       243774.23407988, 255236.21465308, 267353.51259508, 280205.62929705,\n",
       "       293887.47308561, 308513.61687649, 324224.13643322, 341192.79024647,\n",
       "       359638.76711138, 379844.048679  , 402179.95119588, 427149.36583986,\n",
       "       455457.35341929, 488136.52678927, 526787.78522181, 574093.10238266,\n",
       "       635080.26333208, 721036.83892547, 867980.57546827])"
      ]
     },
     "execution_count": 69,
     "metadata": {},
     "output_type": "execute_result"
    }
   ],
   "source": [
    "complexity1"
   ]
  },
  {
   "cell_type": "code",
   "execution_count": 70,
   "metadata": {},
   "outputs": [],
   "source": [
    "#reads per site\n",
    "rps1 = n_reads*60/n_genes1/211995"
   ]
  },
  {
   "cell_type": "code",
   "execution_count": 71,
   "metadata": {},
   "outputs": [
    {
     "data": {
      "text/plain": [
       "array([1415.12771528,  707.56385764,  471.70923843,  353.78192882,\n",
       "        283.02554306,  235.85461921,  202.16110218,  176.89096441,\n",
       "        157.23641281,  141.51277153,  128.64797412,  117.92730961,\n",
       "        108.8559781 ,  101.08055109,   94.34184769,   88.4454822 ,\n",
       "         83.24280678,   78.6182064 ,   74.48040607,   70.75638576,\n",
       "         67.38703406,   64.32398706,   61.52729197,   58.9636548 ,\n",
       "         56.60510861,   54.42798905,   52.4121376 ,   50.54027555,\n",
       "         48.79750742,   47.17092384,   45.64928114,   44.2227411 ,\n",
       "         42.88265804,   41.62140339,   40.43222044,   39.3091032 ,\n",
       "         38.24669501,   37.24020303,   36.28532603,   35.37819288,\n",
       "         34.51531013,   33.69351703,   32.90994687,   32.16199353,\n",
       "         31.44728256,   30.76364598,   30.10910033,   29.4818274 ,\n",
       "         28.88015745,   28.30255431,   27.74760226,   27.21399452,\n",
       "         26.70052293,   26.2060688 ,   25.72959482,   25.27013777,\n",
       "         24.82680202,   24.39875371,   23.98521551])"
      ]
     },
     "execution_count": 71,
     "metadata": {},
     "output_type": "execute_result"
    }
   ],
   "source": []
  },
  {
   "cell_type": "code",
   "execution_count": 73,
   "metadata": {},
   "outputs": [],
   "source": [
    "errors1 = 1/6.64/np.sqrt(n_genes1)*np.log((rps1+np.sqrt(rps1))/(rps1-np.sqrt(rps1)))"
   ]
  },
  {
   "cell_type": "code",
   "execution_count": 76,
   "metadata": {},
   "outputs": [
    {
     "data": {
      "text/plain": [
       "Text(0, 0.5, 'error in sequencing')"
      ]
     },
     "execution_count": 76,
     "metadata": {},
     "output_type": "execute_result"
    },
    {
     "data": {
      "image/png": "[encoded data removed]",
      "text/plain": [
       "<Figure size 432x288 with 1 Axes>"
      ]
     },
     "metadata": {
      "needs_background": "light"
     },
     "output_type": "display_data"
    }
   ],
   "source": [
    "plt.plot(complexity1, errors1, '.')\n",
    "plt.xlabel(\"library complexity\")\n",
    "plt.ylabel(\"error in sequencing\")"
   ]
  },
  {
   "cell_type": "markdown",
   "metadata": {},
   "source": [
    "### Let's try drawing number of reads from an exponential distribution, instead of a Poisson!"
   ]
  },
  {
   "cell_type": "markdown",
   "metadata": {},
   "source": [
    "doing the same as Poisson distribution will not do! Use exponential distribution for t0, use the value as mean for Poisson for t1"
   ]
  },
  {
   "cell_type": "code",
   "execution_count": 245,
   "metadata": {},
   "outputs": [],
   "source": [
    "n1 = 60\n",
    "n2 = 24"
   ]
  },
  {
   "cell_type": "code",
   "execution_count": 246,
   "metadata": {},
   "outputs": [],
   "source": [
    "sc1_t0_exp = np.random.exponential(coverage1, n1)\n",
    "#sc1_t1_exp = np.random.exponential(coverage1, n1)\n",
    "sc2_t0_exp = np.random.exponential(coverage2, n2)\n",
    "#sc2_t1_exp = np.random.exponential(coverage2, n2)\n",
    "sc1_t1_exp = np.zeros(n1)\n",
    "sc2_t1_exp = np.zeros(n2)\n",
    "for i in range(0, n1):\n",
    "    sc1_t1_exp[i] = np.random.poisson(sc1_t0_exp[i])\n",
    "for i in range(0, n2):\n",
    "    sc2_t1_exp[i] = np.random.poisson(sc2_t0_exp[i])"
   ]
  },
  {
   "cell_type": "code",
   "execution_count": 247,
   "metadata": {},
   "outputs": [],
   "source": [
    "mask1 = (sc1_t0_exp > 0) & (sc1_t1_exp>0)\n",
    "mask2 = (sc2_t0_exp > 0) & (sc2_t1_exp>0)"
   ]
  },
  {
   "cell_type": "code",
   "execution_count": 248,
   "metadata": {},
   "outputs": [],
   "source": [
    "sc1_t0_exp = sc1_t0_exp[mask1]\n",
    "sc1_t1_exp = sc1_t1_exp[mask1]\n",
    "sc2_t0_exp = sc2_t0_exp[mask2]\n",
    "sc2_t1_exp = sc2_t1_exp[mask2]"
   ]
  },
  {
   "cell_type": "code",
   "execution_count": 249,
   "metadata": {},
   "outputs": [],
   "source": [
    "fitness_sc1_exp = np.log(sc1_t1_exp/sc1_t0_exp*np.sum(sc1_t0_exp)/np.sum(sc1_t1_exp))/6.64\n",
    "fitness_sc2_exp = np.log(sc2_t1_exp/sc2_t0_exp*np.sum(sc2_t0_exp)/np.sum(sc2_t1_exp))/6.64"
   ]
  },
  {
   "cell_type": "code",
   "execution_count": 250,
   "metadata": {
    "scrolled": true
   },
   "outputs": [
    {
     "data": {
      "text/plain": [
       "Text(0, 0.5, 'counts')"
      ]
     },
     "execution_count": 250,
     "metadata": {},
     "output_type": "execute_result"
    },
    {
     "data": {
      "image/png": "[encoded data removed]",
      "text/plain": [
       "<Figure size 432x288 with 1 Axes>"
      ]
     },
     "metadata": {
      "needs_background": "light"
     },
     "output_type": "display_data"
    }
   ],
   "source": [
    "plt.hist(fitness_sc1_exp, bins=np.linspace(-0.25,0.15,10), label='High complexity', density=True)\n",
    "plt.hist(fitness_sc2_exp, bins=np.linspace(-0.25,0.15,10), label='Low complexity', density=True, alpha=0.7)\n",
    "plt.xlabel(\"Estimated fitness effect for a mutation at a neutral TA site\\n Reads drawn from an exponential distribution\")\n",
    "plt.legend(loc=0)\n",
    "plt.ylabel(\"counts\")"
   ]
  },
  {
   "cell_type": "code",
   "execution_count": 251,
   "metadata": {},
   "outputs": [
    {
     "data": {
      "text/plain": [
       "Text(0, 0.5, 'counts')"
      ]
     },
     "execution_count": 251,
     "metadata": {},
     "output_type": "execute_result"
    },
    {
     "data": {
      "image/png": "[encoded data removed]",
      "text/plain": [
       "<Figure size 432x288 with 1 Axes>"
      ]
     },
     "metadata": {
      "needs_background": "light"
     },
     "output_type": "display_data"
    }
   ],
   "source": [
    "plt.hist(fitness_sc1_exp, bins=10, label='High complexity', density=True)\n",
    "plt.hist(fitness_sc2_exp, bins=10, label='Low complexity', density=True, alpha=0.7)\n",
    "plt.xlabel(\"Estimated fitness effect for a mutation at a neutral TA site\\n Reads drawn from an exponential distribution\")\n",
    "plt.legend(loc=0)\n",
    "plt.ylabel(\"counts\")"
   ]
  },
  {
   "cell_type": "code",
   "execution_count": 252,
   "metadata": {},
   "outputs": [],
   "source": [
    "filteredsc2 = fitness_sc2_exp[(fitness_sc2_exp>np.median(fitness_sc2_exp)-0.025)&(fitness_sc2_exp<np.median(fitness_sc2_exp)+0.025)]"
   ]
  },
  {
   "cell_type": "code",
   "execution_count": 253,
   "metadata": {},
   "outputs": [],
   "source": [
    "filteredsc1 = fitness_sc1_exp[(fitness_sc1_exp>np.median(fitness_sc1_exp)-0.025)&(fitness_sc1_exp<np.median(fitness_sc1_exp)+0.025)]"
   ]
  },
  {
   "cell_type": "code",
   "execution_count": 254,
   "metadata": {},
   "outputs": [
    {
     "data": {
      "text/plain": [
       "0.0028819928754391182"
      ]
     },
     "execution_count": 254,
     "metadata": {},
     "output_type": "execute_result"
    }
   ],
   "source": [
    "np.std(filteredsc2)/np.sqrt(np.size(filteredsc2))"
   ]
  },
  {
   "cell_type": "code",
   "execution_count": 255,
   "metadata": {},
   "outputs": [
    {
     "data": {
      "text/plain": [
       "0.0024043224367626846"
      ]
     },
     "execution_count": 255,
     "metadata": {},
     "output_type": "execute_result"
    }
   ],
   "source": [
    "np.std(filteredsc1)/np.sqrt(np.size(filteredsc1))"
   ]
  },
  {
   "cell_type": "code",
   "execution_count": null,
   "metadata": {},
   "outputs": [],
   "source": []
  }
 ],
 "metadata": {
  "kernelspec": {
   "display_name": "Python 3",
   "language": "python",
   "name": "python3"
  },
  "language_info": {
   "codemirror_mode": {
    "name": "ipython",
    "version": 3
   },
   "file_extension": ".py",
   "mimetype": "text/x-python",
   "name": "python",
   "nbconvert_exporter": "python",
   "pygments_lexer": "ipython3",
   "version": "3.7.3"
  }
 },
 "nbformat": 4,
 "nbformat_minor": 2
}
