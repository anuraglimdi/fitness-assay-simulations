{
 "cells": [
  {
   "cell_type": "markdown",
   "metadata": {},
   "source": [
    "### Library design: low or high complexity?\n",
    "\n",
    "- An important tradeoff in transposon sequencing experiments is that if there are more distinct transposon mutations in the library, then there are necessarily fewer reads per mutation. \n",
    "- Effectively, one can choose between measuring many mutations at a low sequencing depth, or fewer mutations at high sequencing depth. \n",
    "- Another consideration is that we average over individual insertion mutations within a gene to assess the effect of a gene disruption. So, we can average over many, but less precise measurements, or fewer, but more precise measurements.\n",
    "- Here I explore through some quick simulations to what extent does the uncertainty in fitness measurements for disrupting a gene depend on library complexity, and what is the optimal library design (if there is)"
   ]
  },
  {
   "cell_type": "code",
   "execution_count": 1,
   "metadata": {},
   "outputs": [],
   "source": [
    "import numpy as np\n",
    "import matplotlib.pyplot as plt"
   ]
  },
  {
   "cell_type": "markdown",
   "metadata": {},
   "source": [
    "In this quick estimation, I want to figure out for a fixed sequencing depth, should it be split between a lot of insertion sites in a gene and averaged, or should we sequence fewer sites in a gene at high depth"
   ]
  },
  {
   "cell_type": "markdown",
   "metadata": {},
   "source": [
    "### Preliminary estimation\n",
    "\n",
    "Let's consider a gene with 60 insertion sites (the typical number of sites for a gene that is 1kb long). In scenario 1, all 60 are represented in sequencing data, in scenario 2, only 24 are represented"
   ]
  },
  {
   "cell_type": "code",
   "execution_count": 2,
   "metadata": {},
   "outputs": [],
   "source": [
    "n1 = 60\n",
    "n2 = 24"
   ]
  },
  {
   "cell_type": "code",
   "execution_count": 61,
   "metadata": {},
   "outputs": [],
   "source": [
    "coverage1 = 25\n",
    "coverage2 = coverage1*n1/n2"
   ]
  },
  {
   "cell_type": "markdown",
   "metadata": {},
   "source": [
    "Summary of the calculation below:\n",
    "- the error in estimate for a mutation at a neutral site is defined as:\n",
    "$ \\Delta s_{site} = \\dfrac{log\\Big(\\frac{n+\\sqrt{n}}{n+\\sqrt{n}}\\Big)}{t}$\n",
    "- the error for the gene is $\\Delta s_{site}/\\sqrt{\\# sites}$"
   ]
  },
  {
   "cell_type": "code",
   "execution_count": 46,
   "metadata": {},
   "outputs": [
    {
     "name": "stdout",
     "output_type": "stream",
     "text": [
      "0.0039015776184576907\n",
      "0.003893734691837076\n"
     ]
    }
   ],
   "source": [
    "#quick and dirty error estimate\n",
    "e1 = 1/6.64/np.sqrt(n1)*np.log((coverage1+np.sqrt(coverage1))/(coverage1-np.sqrt(coverage1)))\n",
    "e2 = 1/6.64/np.sqrt(n2)*np.log((coverage2+np.sqrt(coverage2))/(coverage2-np.sqrt(coverage2)))\n",
    "print(e1)\n",
    "print(e2)"
   ]
  },
  {
   "cell_type": "markdown",
   "metadata": {},
   "source": [
    "Interesting: it doesn't seem to matter how many sites we have; the error in the fitness effect of the gene is approximately the same\n",
    "\n",
    "### Let's repeat this but instead of error estimation, we will simulate counts for neutral mutations, and average errors in scenarios 1 and 2\n",
    "\n",
    "Since we are assuming that the mutating the gene has no effect, any noise should purely be from Poisson distributed counts"
   ]
  },
  {
   "cell_type": "code",
   "execution_count": 62,
   "metadata": {},
   "outputs": [],
   "source": [
    "sc1_t0 = np.random.poisson(coverage1, n1)\n",
    "sc1_t1 = np.random.poisson(sc1_t0)\n",
    "sc2_t0 = np.random.poisson(coverage2, n2)\n",
    "sc2_t1 = np.random.poisson(sc2_t0)"
   ]
  },
  {
   "cell_type": "markdown",
   "metadata": {},
   "source": [
    "Now let's calculate fitness in these two scenarios"
   ]
  },
  {
   "cell_type": "code",
   "execution_count": 63,
   "metadata": {},
   "outputs": [],
   "source": [
    "fitness_sc1 = np.log(sc1_t1/sc1_t0*np.sum(sc1_t0)/np.sum(sc1_t1))/6.64\n",
    "fitness_sc2 = np.log(sc2_t1/sc2_t0*np.sum(sc2_t0)/np.sum(sc2_t1))/6.64"
   ]
  },
  {
   "cell_type": "markdown",
   "metadata": {},
   "source": [
    "Now let's look at the means and standard deviations of the fitness estimates for the same gene in the two scenarios"
   ]
  },
  {
   "cell_type": "code",
   "execution_count": 64,
   "metadata": {},
   "outputs": [
    {
     "name": "stdout",
     "output_type": "stream",
     "text": [
      "-0.002892327611400504\n",
      "0.003311497110702567\n"
     ]
    }
   ],
   "source": [
    "print(np.mean(fitness_sc1))\n",
    "print(np.std(fitness_sc1)/np.sqrt(n1-1))"
   ]
  },
  {
   "cell_type": "code",
   "execution_count": 65,
   "metadata": {},
   "outputs": [
    {
     "name": "stdout",
     "output_type": "stream",
     "text": [
      "-0.0011765221623909743\n",
      "0.003508586032739844\n"
     ]
    }
   ],
   "source": [
    "print(np.mean(fitness_sc2))\n",
    "print(np.std(fitness_sc2)/np.sqrt(n2-1))"
   ]
  },
  {
   "cell_type": "markdown",
   "metadata": {},
   "source": [
    "Again, the errors in estimation are very similar"
   ]
  },
  {
   "cell_type": "markdown",
   "metadata": {},
   "source": [
    "### Let's try drawing number of reads from an exponential distribution, instead of a Poisson!\n",
    "\n",
    "The initial distribution of reads at the start of a fitness assay is never a Poisson distribution; an exponential distribution often is a better fit (though something like a lognormal or a negative binomial is probably even better). \n",
    "\n",
    "Here, I use exponential distributions for their convenience, and to explore how a more heavy-tailed initial read distribution impacts errors in fitness estimation."
   ]
  },
  {
   "cell_type": "code",
   "execution_count": 66,
   "metadata": {},
   "outputs": [],
   "source": [
    "n1 = 60\n",
    "n2 = 24"
   ]
  },
  {
   "cell_type": "code",
   "execution_count": 67,
   "metadata": {},
   "outputs": [],
   "source": [
    "sc1_t0_exp = np.random.exponential(coverage1, n1)\n",
    "#sc1_t1_exp = np.random.exponential(coverage1, n1)\n",
    "sc2_t0_exp = np.random.exponential(coverage2, n2)\n",
    "#sc2_t1_exp = np.random.exponential(coverage2, n2)\n",
    "sc1_t1_exp = np.zeros(n1)\n",
    "sc2_t1_exp = np.zeros(n2)\n",
    "for i in range(0, n1):\n",
    "    sc1_t1_exp[i] = np.random.poisson(sc1_t0_exp[i])\n",
    "for i in range(0, n2):\n",
    "    sc2_t1_exp[i] = np.random.poisson(sc2_t0_exp[i])"
   ]
  },
  {
   "cell_type": "code",
   "execution_count": 68,
   "metadata": {},
   "outputs": [],
   "source": [
    "mask1 = (sc1_t0_exp > 0) & (sc1_t1_exp>0)\n",
    "mask2 = (sc2_t0_exp > 0) & (sc2_t1_exp>0)"
   ]
  },
  {
   "cell_type": "code",
   "execution_count": 69,
   "metadata": {},
   "outputs": [],
   "source": [
    "sc1_t0_exp = sc1_t0_exp[mask1]\n",
    "sc1_t1_exp = sc1_t1_exp[mask1]\n",
    "sc2_t0_exp = sc2_t0_exp[mask2]\n",
    "sc2_t1_exp = sc2_t1_exp[mask2]"
   ]
  },
  {
   "cell_type": "code",
   "execution_count": 70,
   "metadata": {},
   "outputs": [],
   "source": [
    "fitness_sc1_exp = np.log(sc1_t1_exp/sc1_t0_exp*np.sum(sc1_t0_exp)/np.sum(sc1_t1_exp))/6.64\n",
    "fitness_sc2_exp = np.log(sc2_t1_exp/sc2_t0_exp*np.sum(sc2_t0_exp)/np.sum(sc2_t1_exp))/6.64"
   ]
  },
  {
   "cell_type": "code",
   "execution_count": 71,
   "metadata": {
    "scrolled": true
   },
   "outputs": [
    {
     "data": {
      "text/plain": [
       "Text(0, 0.5, 'counts')"
      ]
     },
     "execution_count": 71,
     "metadata": {},
     "output_type": "execute_result"
    },
    {
     "data": {
      "image/png": "[encoded data removed]",
      "text/plain": [
       "<Figure size 432x288 with 1 Axes>"
      ]
     },
     "metadata": {
      "needs_background": "light"
     },
     "output_type": "display_data"
    }
   ],
   "source": [
    "plt.hist(fitness_sc1_exp, bins=np.linspace(-0.25,0.15,10), label='High complexity', density=True)\n",
    "plt.hist(fitness_sc2_exp, bins=np.linspace(-0.25,0.15,10), label='Low complexity', density=True, alpha=0.7)\n",
    "plt.xlabel(\"Estimated fitness effect for a mutation at a neutral TA site\\n Reads drawn from an exponential distribution\")\n",
    "plt.legend(loc=0)\n",
    "plt.ylabel(\"counts\")"
   ]
  },
  {
   "cell_type": "code",
   "execution_count": 73,
   "metadata": {},
   "outputs": [
    {
     "name": "stdout",
     "output_type": "stream",
     "text": [
      "error at low complexity: 0.005456650780272019\n"
     ]
    }
   ],
   "source": [
    "print('error at low complexity:', np.std(fitness_sc2_exp)/np.sqrt(np.size(fitness_sc2_exp)-1))"
   ]
  },
  {
   "cell_type": "code",
   "execution_count": 75,
   "metadata": {},
   "outputs": [
    {
     "name": "stdout",
     "output_type": "stream",
     "text": [
      "error at high complexity: 0.005042667886316579\n"
     ]
    }
   ],
   "source": [
    "print('error at high complexity:', np.std(fitness_sc1_exp)/np.sqrt(np.size(fitness_sc1_exp)-1))"
   ]
  },
  {
   "cell_type": "markdown",
   "metadata": {},
   "source": [
    "As previously, there seems to be very similar errors in the low and high complexity libraries (the precise numbers can vary due to randomness in the simulation)"
   ]
  },
  {
   "cell_type": "markdown",
   "metadata": {},
   "source": [
    "### Now, let's tune the initial library complexity and see how that affects the variation in fitness estimates"
   ]
  },
  {
   "cell_type": "code",
   "execution_count": 14,
   "metadata": {},
   "outputs": [],
   "source": [
    "complexity = np.linspace(2*10**4, 10**6, 200)"
   ]
  },
  {
   "cell_type": "code",
   "execution_count": 15,
   "metadata": {},
   "outputs": [],
   "source": [
    "#these are the proportion of unique TA sites represented in the sequencing data on average\n",
    "fraction_sites = 1 - np.exp(-complexity/211995)"
   ]
  },
  {
   "cell_type": "code",
   "execution_count": 17,
   "metadata": {
    "scrolled": true
   },
   "outputs": [
    {
     "data": {
      "text/plain": [
       "Text(0, 0.5, 'Fraction of Insertion Sites Expected\\n to Present in Counts Data ')"
      ]
     },
     "execution_count": 17,
     "metadata": {},
     "output_type": "execute_result"
    },
    {
     "data": {
      "image/png": "[encoded data removed]",
      "text/plain": [
       "<Figure size 432x288 with 1 Axes>"
      ]
     },
     "metadata": {
      "needs_background": "light"
     },
     "output_type": "display_data"
    }
   ],
   "source": [
    "plt.plot(complexity, fraction_sites)\n",
    "plt.xlabel('Library Complexity')\n",
    "plt.ylabel('Fraction of Insertion Sites Expected\\n to Present in Counts Data ')"
   ]
  },
  {
   "cell_type": "code",
   "execution_count": 18,
   "metadata": {},
   "outputs": [],
   "source": [
    "#number of sites represented in a gene\n",
    "n_gene = np.round(fraction_sites*60)"
   ]
  },
  {
   "cell_type": "code",
   "execution_count": 19,
   "metadata": {},
   "outputs": [],
   "source": [
    "#number of reads (for an entire library)\n",
    "n_reads = 5*10**6\n",
    "rps = n_reads/fraction_sites/211995"
   ]
  },
  {
   "cell_type": "code",
   "execution_count": 20,
   "metadata": {},
   "outputs": [],
   "source": [
    "errors = 1/6.64/np.sqrt(n_gene)*np.log((rps+np.sqrt(rps))/(rps-np.sqrt(rps)))"
   ]
  },
  {
   "cell_type": "code",
   "execution_count": 22,
   "metadata": {},
   "outputs": [
    {
     "data": {
      "text/plain": [
       "Text(0, 0.5, 'Error in fitness estimate \\n(averaged over all sites within a gene)')"
      ]
     },
     "execution_count": 22,
     "metadata": {},
     "output_type": "execute_result"
    },
    {
     "data": {
      "image/png": "[encoded data removed]",
      "text/plain": [
       "<Figure size 432x288 with 1 Axes>"
      ]
     },
     "metadata": {
      "needs_background": "light"
     },
     "output_type": "display_data"
    }
   ],
   "source": [
    "plt.plot(complexity, errors)\n",
    "plt.xlabel('Library Complexity')\n",
    "plt.ylabel('Error in fitness estimate \\n(averaged over all sites within a gene)')"
   ]
  },
  {
   "cell_type": "markdown",
   "metadata": {},
   "source": [
    "let's generate the same plot without the weird squiggles due to rounding off "
   ]
  },
  {
   "cell_type": "code",
   "execution_count": 23,
   "metadata": {},
   "outputs": [],
   "source": [
    "#let's stick to a linearly spacing in terms of number of sites represented per gene\n",
    "n_genes1 = np.linspace(1,59,59)\n",
    "#now, I'll infer a complexity of transposon library which leads to representing these many genes\n",
    "complexity1 = -np.log(1-n_genes1/60)*211995"
   ]
  },
  {
   "cell_type": "code",
   "execution_count": 24,
   "metadata": {},
   "outputs": [],
   "source": [
    "#reads per site\n",
    "rps1 = n_reads*60/n_genes1/211995"
   ]
  },
  {
   "cell_type": "code",
   "execution_count": 25,
   "metadata": {},
   "outputs": [],
   "source": [
    "errors1 = 1/6.64/np.sqrt(n_genes1)*np.log((rps1+np.sqrt(rps1))/(rps1-np.sqrt(rps1)))"
   ]
  },
  {
   "cell_type": "code",
   "execution_count": 26,
   "metadata": {},
   "outputs": [
    {
     "data": {
      "text/plain": [
       "Text(0, 0.5, 'error in sequencing')"
      ]
     },
     "execution_count": 26,
     "metadata": {},
     "output_type": "execute_result"
    },
    {
     "data": {
      "image/png": "[encoded data removed]",
      "text/plain": [
       "<Figure size 432x288 with 1 Axes>"
      ]
     },
     "metadata": {
      "needs_background": "light"
     },
     "output_type": "display_data"
    }
   ],
   "source": [
    "plt.plot(complexity1, errors1, '.')\n",
    "plt.xlabel(\"library complexity\")\n",
    "plt.ylabel(\"error in fitness estimates\")"
   ]
  },
  {
   "cell_type": "markdown",
   "metadata": {},
   "source": [
    "Results: \n",
    "\n",
    "- while errors in fitness estimates are slightly smaller for less complex libraries, the effect is very small (0.00802 vs 0.00812), almost to the point of being indistinguishable from a practical standpoint.\n",
    "\n",
    "\n",
    "### Main takeaway: it probably does not make much sense to optimize library complexity too much as it has no effect on improving fitness estimates. However, if the focus of the experiment is more on gene essentiality, then optimizing library complexity is much more reasonable, as there is more statistical power for calling essentiality if more insertion sites in the genome are represented."
   ]
  },
  {
   "cell_type": "code",
   "execution_count": null,
   "metadata": {},
   "outputs": [],
   "source": []
  }
 ],
 "metadata": {
  "kernelspec": {
   "display_name": "Python 3 (ipykernel)",
   "language": "python",
   "name": "python3"
  },
  "language_info": {
   "codemirror_mode": {
    "name": "ipython",
    "version": 3
   },
   "file_extension": ".py",
   "mimetype": "text/x-python",
   "name": "python",
   "nbconvert_exporter": "python",
   "pygments_lexer": "ipython3",
   "version": "3.10.4"
  }
 },
 "nbformat": 4,
 "nbformat_minor": 2
}
