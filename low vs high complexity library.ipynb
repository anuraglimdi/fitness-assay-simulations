{
 "cells": [
  {
   "cell_type": "code",
   "execution_count": 1,
   "metadata": {},
   "outputs": [],
   "source": [
    "import numpy as np\n",
    "import matplotlib.pyplot as plt"
   ]
  },
  {
   "cell_type": "markdown",
   "metadata": {},
   "source": [
    "Doing some quick estimation about whether it is better to have a lower or higher complexity library. The basic tradeoff is between having more reads per site or having more sites (keeping the number of sequencing reads or bottleneck size constant)"
   ]
  },
  {
   "cell_type": "code",
   "execution_count": 2,
   "metadata": {},
   "outputs": [],
   "source": [
    "nb = 5*10**6\n",
    "#this is the bottleneck size during LTEE\n",
    "ta_sites = 211995\n",
    "#number of TA sites in the E. coli REL606 genome"
   ]
  },
  {
   "cell_type": "markdown",
   "metadata": {},
   "source": [
    "scenario 1: more complex libraries where every insertion site is expected to be covered five times on average"
   ]
  },
  {
   "cell_type": "code",
   "execution_count": 58,
   "metadata": {},
   "outputs": [
    {
     "name": "stdout",
     "output_type": "stream",
     "text": [
      "1060117\n"
     ]
    }
   ],
   "source": [
    "depth1 = 5\n",
    "#actual number of cells in pool for each site drawn from a Poisson distribution.\n",
    "cells1 = np.random.poisson(depth1, ta_sites)\n",
    "print(np.sum(cells1))\n",
    "cells1 = cells1*nb/np.sum(cells1)"
   ]
  },
  {
   "cell_type": "markdown",
   "metadata": {},
   "source": [
    "scenario 2: less complex library with a 0.5 x coverage"
   ]
  },
  {
   "cell_type": "code",
   "execution_count": 59,
   "metadata": {},
   "outputs": [
    {
     "name": "stdout",
     "output_type": "stream",
     "text": [
      "53236\n"
     ]
    }
   ],
   "source": [
    "depth2 = 0.25\n",
    "#actual number of cells in pool for each site drawn from a Poisson distribution.\n",
    "cells2 = np.random.poisson(depth2, ta_sites)\n",
    "print(np.sum(cells2))\n",
    "cells2 = cells2*nb/np.sum(cells2)"
   ]
  },
  {
   "cell_type": "code",
   "execution_count": 60,
   "metadata": {},
   "outputs": [
    {
     "data": {
      "text/plain": [
       "23.746200607902733"
      ]
     },
     "execution_count": 60,
     "metadata": {},
     "output_type": "execute_result"
    }
   ],
   "source": [
    "#average number of cells transferred per bottleneck (considering only those that are present)\n",
    "np.mean(cells1[cells1>0])"
   ]
  },
  {
   "cell_type": "code",
   "execution_count": 61,
   "metadata": {},
   "outputs": [
    {
     "data": {
      "text/plain": [
       "106.2857385795974"
      ]
     },
     "execution_count": 61,
     "metadata": {},
     "output_type": "execute_result"
    }
   ],
   "source": [
    "#average number of cells transferred per bottleneck (considering only those that are present)\n",
    "np.mean(cells2[cells2>0])"
   ]
  },
  {
   "cell_type": "markdown",
   "metadata": {},
   "source": [
    "let's now simulate the calculation of dfe for an arbitrary gene which contains the first 65 TA sites"
   ]
  },
  {
   "cell_type": "code",
   "execution_count": 62,
   "metadata": {},
   "outputs": [
    {
     "name": "stdout",
     "output_type": "stream",
     "text": [
      "[37.73168433 18.86584217 14.14938162 14.14938162 23.58230271 23.58230271\n",
      " 14.14938162 28.29876325 14.14938162 23.58230271 33.01522379 23.58230271\n",
      " 28.29876325 14.14938162  9.43292108 28.29876325 23.58230271  9.43292108\n",
      " 23.58230271 33.01522379  9.43292108 28.29876325 28.29876325 28.29876325\n",
      " 47.16460542  9.43292108 28.29876325 37.73168433 18.86584217 18.86584217\n",
      " 37.73168433 28.29876325 18.86584217 18.86584217 33.01522379  4.71646054\n",
      "  4.71646054 37.73168433 37.73168433 14.14938162 18.86584217 23.58230271\n",
      " 28.29876325 42.44814487 37.73168433 18.86584217 37.73168433 33.01522379\n",
      " 42.44814487 18.86584217  9.43292108 37.73168433 28.29876325 23.58230271\n",
      " 28.29876325  9.43292108 47.16460542 28.29876325  9.43292108 14.14938162\n",
      " 37.73168433 33.01522379  9.43292108 23.58230271 51.88106596]\n"
     ]
    },
    {
     "data": {
      "text/plain": [
       "24.96096040487839"
      ]
     },
     "execution_count": 62,
     "metadata": {},
     "output_type": "execute_result"
    }
   ],
   "source": [
    "gene1 = cells1[:65]\n",
    "print(gene1[gene1>0])\n",
    "np.mean(gene1[gene1>0])"
   ]
  },
  {
   "cell_type": "code",
   "execution_count": 63,
   "metadata": {},
   "outputs": [],
   "source": [
    "sites1 = gene1[gene1>0]\n",
    "#this array carries information about the errors in fitness estimated for each of those site\n",
    "s_1 = 1/6.64*np.log((sites1+np.sqrt(sites1))/(sites1-np.sqrt(sites1)))\n"
   ]
  },
  {
   "cell_type": "code",
   "execution_count": 64,
   "metadata": {},
   "outputs": [
    {
     "name": "stdout",
     "output_type": "stream",
     "text": [
      "[ 93.92140657  93.92140657  93.92140657  93.92140657  93.92140657\n",
      "  93.92140657  93.92140657  93.92140657  93.92140657  93.92140657\n",
      " 187.84281313 187.84281313  93.92140657  93.92140657  93.92140657]\n"
     ]
    },
    {
     "data": {
      "text/plain": [
       "106.44426077591606"
      ]
     },
     "execution_count": 64,
     "metadata": {},
     "output_type": "execute_result"
    }
   ],
   "source": [
    "gene2 = cells2[:65]\n",
    "print(gene2[gene2>0])\n",
    "np.mean(gene2[gene2>0])"
   ]
  },
  {
   "cell_type": "code",
   "execution_count": 65,
   "metadata": {},
   "outputs": [],
   "source": [
    "sites2 = gene2[gene2>0]\n",
    "#this array carries information about the errors in fitness estimated for each of those sites\n",
    "s_2 = 1/6.64*np.log((sites2+np.sqrt(sites2))/(sites2-np.sqrt(sites2)))"
   ]
  },
  {
   "cell_type": "code",
   "execution_count": 66,
   "metadata": {},
   "outputs": [
    {
     "data": {
      "text/plain": [
       "0.00847446293015477"
      ]
     },
     "execution_count": 66,
     "metadata": {},
     "output_type": "execute_result"
    }
   ],
   "source": [
    "np.mean(s_1)/np.sqrt(len(s_1))"
   ]
  },
  {
   "cell_type": "code",
   "execution_count": 67,
   "metadata": {},
   "outputs": [
    {
     "data": {
      "text/plain": [
       "0.0077375969919815345"
      ]
     },
     "execution_count": 67,
     "metadata": {},
     "output_type": "execute_result"
    }
   ],
   "source": [
    "np.mean(s_2)/np.sqrt(len(s_2))"
   ]
  },
  {
   "cell_type": "markdown",
   "metadata": {},
   "source": [
    "let's now try to simulate the sampling process and see if we get tighter distributions with a less complex library"
   ]
  },
  {
   "cell_type": "code",
   "execution_count": null,
   "metadata": {},
   "outputs": [],
   "source": []
  }
 ],
 "metadata": {
  "kernelspec": {
   "display_name": "Python 3",
   "language": "python",
   "name": "python3"
  },
  "language_info": {
   "codemirror_mode": {
    "name": "ipython",
    "version": 3
   },
   "file_extension": ".py",
   "mimetype": "text/x-python",
   "name": "python",
   "nbconvert_exporter": "python",
   "pygments_lexer": "ipython3",
   "version": "3.7.3"
  }
 },
 "nbformat": 4,
 "nbformat_minor": 2
}
